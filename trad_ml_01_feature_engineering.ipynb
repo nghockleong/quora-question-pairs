{
 "cells": [
  {
   "cell_type": "code",
   "execution_count": 1,
   "metadata": {},
   "outputs": [],
   "source": [
    "import spacy\n",
    "from sklearn.model_selection import train_test_split\n",
    "from sklearn.preprocessing import normalize\n",
    "from sklearn.feature_extraction.text import TfidfVectorizer, CountVectorizer\n",
    "from trad_ml_01_feature_engineering_func import (\n",
    "    plot_label_distribution\n",
    "    , get_qid_with_nlp_string_tup_pair\n",
    "    , get_list_of_lemmatized_string_with_no_stop_words\n",
    "    , get_qid_pair_with_label\n",
    "    , generate_df\n",
    "    , add_thefuzz_features\n",
    ")\n",
    "\n",
    "from util_generate_raw_data import generate_raw_data\n",
    "import matplotlib.pyplot as plt\n",
    "import seaborn as sns"
   ]
  },
  {
   "cell_type": "markdown",
   "metadata": {},
   "source": [
    "### Load dataset and split into train and testset"
   ]
  },
  {
   "cell_type": "code",
   "execution_count": 2,
   "metadata": {},
   "outputs": [
    {
     "name": "stdout",
     "output_type": "stream",
     "text": [
      "train set dimensions:  (808566, 6)\n",
      "train set dimensions after dropping duplicates by question pair:  (404290, 6)\n",
      "train set dimensions after dropping duplicates by qid pair:  (404290, 6)\n"
     ]
    }
   ],
   "source": [
    "lst_of_files = ['train_kaggle.csv', 'train_glue.tsv', 'dev_glue.tsv']\n",
    "df = generate_raw_data(*lst_of_files)\n",
    "X, y = df.drop('is_duplicate', axis = 1), df['is_duplicate']\n",
    "X_train, X_test, y_train, y_test = train_test_split(\n",
    "    X, y,\n",
    "    test_size=0.2,\n",
    "    stratify=y,\n",
    "    random_state=42\n",
    ")"
   ]
  },
  {
   "cell_type": "markdown",
   "metadata": {},
   "source": [
    "### Dataset slightly imbalanced (about 3:2) but still reasonable"
   ]
  },
  {
   "cell_type": "code",
   "execution_count": 3,
   "metadata": {},
   "outputs": [
    {
     "data": {
      "image/png": "[encoded data removed]",
      "text/plain": [
       "<Figure size 600x400 with 1 Axes>"
      ]
     },
     "metadata": {},
     "output_type": "display_data"
    }
   ],
   "source": [
    "plot_label_distribution(y_train)"
   ]
  },
  {
   "cell_type": "markdown",
   "metadata": {},
   "source": [
    "### Feature Engineering from raw questions for train set"
   ]
  },
  {
   "cell_type": "code",
   "execution_count": 3,
   "metadata": {},
   "outputs": [],
   "source": [
    "nlp = spacy.load('en_core_web_sm', exclude = ['parser', 'ner', 'entity_linker', \n",
    "                                              'entity_ruler', 'textcat', 'textcat_multilabel', \n",
    "                                              'morphologizer', 'senter', 'sentencizer'])\n",
    "'''\n",
    "Obtain the following:\n",
    "lemma_str_train: list of strings after stop word removal and lemmatization\n",
    "q1q2_id_label_triple_train: array of triple with qid1, qid2, label\n",
    "'''\n",
    "id_qn_lemma_str_pair_train = get_qid_with_nlp_string_tup_pair(X_train, nlp)\n",
    "lemma_str_train = get_list_of_lemmatized_string_with_no_stop_words(id_qn_lemma_str_pair_train)\n",
    "q1q2_id_label_triple_train = get_qid_pair_with_label(X_train, y_train)\n",
    "\n",
    "'''\n",
    "qn_score_matrix_train: normalised TF-IDF vector matrix obtained from lemma_str_train\n",
    "'''\n",
    "tfidf_vectorizer = TfidfVectorizer()\n",
    "qn_score_matrix_train = tfidf_vectorizer.fit_transform(lemma_str_train)\n",
    "qn_score_matrix_train = normalize(qn_score_matrix_train, norm = 'l2', axis = 1)\n",
    "\n",
    "'''\n",
    "id_to_score_vector_train: mapping from qid to TF-IDF score vector\n",
    "for computation of cosine similarity, manhattan distance, euclidean distance\n",
    "'''\n",
    "qn_id_train = list(map(lambda x: x[0], id_qn_lemma_str_pair_train))\n",
    "id_to_score_vector_train = dict(zip(qn_id_train, qn_score_matrix_train))\n",
    "\n",
    "'''\n",
    "id_to_presence_vector_train: mapping from qid to presence vector\n",
    "for computation of jaccard distance\n",
    "'''\n",
    "presence_vectorizer = CountVectorizer(binary = True)\n",
    "lemma_presence_matrix_train = presence_vectorizer.fit_transform(lemma_str_train)\n",
    "id_to_presence_vector_train = dict(zip(qn_id_train, lemma_presence_matrix_train))\n",
    "\n",
    "'''\n",
    "df containing\n",
    "id1\n",
    ", id2, \n",
    ", cosine_similarity, \n",
    ", manhattan_dist, \n",
    ", euclidean_dist, \n",
    ", jaccard_dist, \n",
    ", is_duplicate\n",
    "'''\n",
    "df_train = generate_df(q1q2_id_label_triple_train, id_to_score_vector_train, id_to_presence_vector_train)"
   ]
  },
  {
   "cell_type": "markdown",
   "metadata": {},
   "source": [
    "### More feature engineering (fuzz features) for train set"
   ]
  },
  {
   "cell_type": "code",
   "execution_count": 4,
   "metadata": {},
   "outputs": [],
   "source": [
    "\n",
    "'''\n",
    "include \n",
    "fuzz ratio\n",
    ", fuzz partial ratio\n",
    ", token sort ratio\n",
    ", token set ratio\n",
    "'''\n",
    "df_train_with_fuzz = add_thefuzz_features(df_train, X_train)\n",
    "new_order  = ['id1','id2',\n",
    "              'cosine_similarity', 'manhattan_dist', 'euclidean_dist', 'jaccard_dist', \n",
    "              'fuzz_ratio', 'fuzz_partial_ratio', 'token_sort_ratio', 'token_set_ratio', \n",
    "              'is_duplicate']\n",
    "df_train_with_fuzz = df_train_with_fuzz[new_order]\n",
    "\n",
    "df_train.to_csv('data/original_train_data.csv', index = False)\n",
    "df_train_with_fuzz.to_csv('data/train_data_with_fuzz_features.csv', index = False)"
   ]
  },
  {
   "cell_type": "markdown",
   "metadata": {},
   "source": [
    "### Feature Engineering from raw questions for test set"
   ]
  },
  {
   "cell_type": "code",
   "execution_count": 5,
   "metadata": {},
   "outputs": [],
   "source": [
    "'''\n",
    "Obtain the following:\n",
    "lemma_str_test: list of strings after stop word removal and lemmatization\n",
    "q1q2_id_label_triple_test: array of triple with qid1, qid2, label\n",
    "'''\n",
    "\n",
    "id_qn_lemma_str_pair_test = get_qid_with_nlp_string_tup_pair(X_test, nlp)\n",
    "lemma_str_test = get_list_of_lemmatized_string_with_no_stop_words(id_qn_lemma_str_pair_test)\n",
    "q1q2_id_label_triple_test = get_qid_pair_with_label(X_test, y_test)\n",
    "\n",
    "'''\n",
    "qn_score_matrix_test: normalised TF-IDF vector matrix obtained from lemma_str_train\n",
    "'''\n",
    "qn_score_matrix_test = tfidf_vectorizer.transform(lemma_str_test)\n",
    "qn_score_matrix_test = normalize(qn_score_matrix_test, norm = 'l2', axis = 1)\n",
    "\n",
    "'''\n",
    "id_to_score_vector_test: mapping from qid to TF-IDF score vector\n",
    "for computation of cosine similarity, manhattan distance, euclidean distance\n",
    "'''\n",
    "qn_id_test = list(map(lambda x: x[0], id_qn_lemma_str_pair_test))\n",
    "id_to_score_vector_test = dict(zip(qn_id_test, qn_score_matrix_test))\n",
    "\n",
    "'''\n",
    "id_to_presence_vector_test: mapping from qid to presence vector\n",
    "for computation of jaccard distance\n",
    "'''\n",
    "lemma_presence_matrix_test = presence_vectorizer.transform(lemma_str_test)\n",
    "id_to_presence_vector_test = dict(zip(qn_id_test, lemma_presence_matrix_test))\n",
    "\n",
    "'''\n",
    "df containing\n",
    "id1\n",
    ", id2, \n",
    ", cosine_similarity, \n",
    ", manhattan_dist, \n",
    ", euclidean_dist, \n",
    ", jaccard_dist, \n",
    ", is_duplicate\n",
    "'''\n",
    "df_test = generate_df(q1q2_id_label_triple_test, id_to_score_vector_test, id_to_presence_vector_test)"
   ]
  },
  {
   "cell_type": "markdown",
   "metadata": {},
   "source": [
    "### More feature engineering (fuzz features) for test set"
   ]
  },
  {
   "cell_type": "code",
   "execution_count": 11,
   "metadata": {},
   "outputs": [],
   "source": [
    "'''\n",
    "include \n",
    "fuzz ratio\n",
    ", fuzz partial ratio\n",
    ", token sort ratio\n",
    ", token set ratio\n",
    "'''\n",
    "df_test_with_fuzz = add_thefuzz_features(df_test, X_test)\n",
    "df_test_with_fuzz = df_test_with_fuzz[new_order]\n",
    "\n",
    "df_test.to_csv('data/original_test_data.csv', index = False)\n",
    "df_test_with_fuzz.to_csv('data/test_data_with_fuzz_features.csv', index = False)"
   ]
  },
  {
   "cell_type": "code",
   "execution_count": 12,
   "metadata": {},
   "outputs": [],
   "source": [
    "df_test.to_csv('data/original_test_data.csv', index = False)\n",
    "df_test_with_fuzz.to_csv('data/test_data_with_fuzz_features.csv', index = False)\n",
    "df_train.to_csv('data/original_train_data.csv', index = False)\n",
    "df_train_with_fuzz.to_csv('data/train_data_with_fuzz_features.csv', index = False)"
   ]
  }
 ],
 "metadata": {
  "kernelspec": {
   "display_name": "Python 3",
   "language": "python",
   "name": "python3"
  },
  "language_info": {
   "codemirror_mode": {
    "name": "ipython",
    "version": 3
   },
   "file_extension": ".py",
   "mimetype": "text/x-python",
   "name": "python",
   "nbconvert_exporter": "python",
   "pygments_lexer": "ipython3",
   "version": "3.10.16"
  }
 },
 "nbformat": 4,
 "nbformat_minor": 2
}
