{
 "cells": [
  {
   "cell_type": "code",
   "execution_count": 32,
   "metadata": {},
   "outputs": [],
   "source": [
    "import pandas as pd\n",
    "import numpy as np\n",
    "import matplotlib.pyplot as plt\n",
    "import seaborn as sns\n",
    "from sklearn.model_selection import train_test_split\n",
    "import spacy"
   ]
  },
  {
   "cell_type": "markdown",
   "metadata": {},
   "source": [
    "Test data provided does not have labels. Use the training data as the original df and perform train_test_split instead"
   ]
  },
  {
   "cell_type": "code",
   "execution_count": 2,
   "metadata": {},
   "outputs": [],
   "source": [
    "kaggle_train = pd.read_csv('data/train_kaggle.csv')\n",
    "glue_train = pd.read_csv('data/train_glue.tsv', sep = '\\t')\n",
    "glue_dev = pd.read_csv('data/dev_glue.tsv', sep = '\\t')\n",
    "glue_train = pd.concat([glue_train, glue_dev])"
   ]
  },
  {
   "cell_type": "markdown",
   "metadata": {},
   "source": [
    "Data cleaning"
   ]
  },
  {
   "cell_type": "code",
   "execution_count": 3,
   "metadata": {},
   "outputs": [
    {
     "name": "stdout",
     "output_type": "stream",
     "text": [
      "train set dimensions:  (808566, 6)\n",
      "\n",
      "\n",
      "train set dimensions after dropping duplicates by question pair:  (404290, 6)\n",
      "\n",
      "\n",
      "train set dimensions after dropping duplicates by qid pair:  (404290, 6)\n"
     ]
    }
   ],
   "source": [
    "df = pd.concat([kaggle_train, glue_train])\n",
    "print('train set dimensions: ', df.shape)\n",
    "print('\\n')\n",
    "\n",
    "\n",
    "# Remove duplicated data since there might be overlap from 2 different sources\n",
    "df = df.drop_duplicates(subset = ['question1', 'question2'])\n",
    "print('train set dimensions after dropping duplicates by question pair: ', df.shape)\n",
    "print('\\n')\n",
    "\n",
    "\n",
    "# Check for duplicated ID since we are using 2 different sources\n",
    "df = df.drop_duplicates(subset = ['qid1', 'qid2'])\n",
    "print('train set dimensions after dropping duplicates by qid pair: ', df.shape)\n",
    "\n",
    "df = df.drop('id', axis = 1)\n",
    "X, y = df.drop('is_duplicate', axis = 1), df['is_duplicate']"
   ]
  },
  {
   "cell_type": "code",
   "execution_count": 23,
   "metadata": {},
   "outputs": [],
   "source": [
    "X_train, X_test, y_train, y_test = train_test_split(\n",
    "    X, y, test_size = 0.25, random_state = 42, stratify = y, shuffle = True\n",
    ")"
   ]
  },
  {
   "cell_type": "markdown",
   "metadata": {},
   "source": [
    "Distribution of + and - is still acceptable of about 2:3 for +:-"
   ]
  },
  {
   "cell_type": "code",
   "execution_count": 24,
   "metadata": {},
   "outputs": [
    {
     "data": {
      "image/png": "[encoded data removed]",
      "text/plain": [
       "<Figure size 640x480 with 1 Axes>"
      ]
     },
     "metadata": {},
     "output_type": "display_data"
    }
   ],
   "source": [
    "sns.barplot(y_train.value_counts(normalize = True))\n",
    "plt.title('distribution of different pairs and duplicated pairs')\n",
    "plt.show()"
   ]
  },
  {
   "cell_type": "code",
   "execution_count": null,
   "metadata": {},
   "outputs": [],
   "source": [
    "nlp = spacy.load('en_core_web_sm')\n",
    "# represents ID tagged to question\n",
    "id_qn_pair = np.concatenate((X_train[['qid1', 'question1']].values, X_train[['qid2', 'question2']].values))\n",
    "id_qn_pair = [(qid, nlp(q)) for qid, q in id_qn_pair]\n",
    "\n",
    "# stores an array of triples qid1, qid2 and label\n",
    "q1q2_id_label_triple = np.concatenate(\n",
    "    (X_train[['qid1', 'qid2']].values, \n",
    "     y_train.values.reshape(-1, 1)), axis = 1)"
   ]
  },
  {
   "cell_type": "code",
   "execution_count": null,
   "metadata": {},
   "outputs": [],
   "source": [
    "id_qn_lemma_pair = [(qid, [token.lemma_ for token in q if not token.is_stop]) for qid, q in id_qn_pair]"
   ]
  }
 ],
 "metadata": {
  "kernelspec": {
   "display_name": ".venv",
   "language": "python",
   "name": "python3"
  },
  "language_info": {
   "codemirror_mode": {
    "name": "ipython",
    "version": 3
   },
   "file_extension": ".py",
   "mimetype": "text/x-python",
   "name": "python",
   "nbconvert_exporter": "python",
   "pygments_lexer": "ipython3",
   "version": "3.10.16"
  }
 },
 "nbformat": 4,
 "nbformat_minor": 2
}
