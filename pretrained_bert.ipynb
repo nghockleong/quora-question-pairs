{
 "cells": [
  {
   "cell_type": "code",
   "execution_count": 1,
   "metadata": {},
   "outputs": [
    {
     "name": "stdout",
     "output_type": "stream",
     "text": [
      "WARNING:tensorflow:From c:\\Users\\User\\AppData\\Local\\Programs\\Python-3.10.16\\lib\\site-packages\\tf_keras\\src\\losses.py:2976: The name tf.losses.sparse_softmax_cross_entropy is deprecated. Please use tf.compat.v1.losses.sparse_softmax_cross_entropy instead.\n",
      "\n"
     ]
    }
   ],
   "source": [
    "import numpy as np\n",
    "from sklearn.model_selection import train_test_split\n",
    "import torch\n",
    "from peft import LoraConfig, get_peft_model, TaskType, prepare_model_for_kbit_training\n",
    "from transformers import (\n",
    "    AutoTokenizer,\n",
    "    AutoModelForSequenceClassification,\n",
    "    BitsAndBytesConfig,\n",
    "    DataCollatorWithPadding,\n",
    "    Trainer, \n",
    "    TrainingArguments\n",
    ")\n",
    "from util_generate_raw_data import generate_raw_data\n",
    "from pretrained_bert_func import tokenize_input, compute_metrics, QuantizedLoraPredictor\n",
    "from util_model_evaluation import get_model_evaluation"
   ]
  },
  {
   "cell_type": "markdown",
   "metadata": {},
   "source": [
    "### Obtain dataset for LoRA fine tuning"
   ]
  },
  {
   "cell_type": "code",
   "execution_count": 2,
   "metadata": {},
   "outputs": [
    {
     "name": "stdout",
     "output_type": "stream",
     "text": [
      "train set dimensions:  (808566, 6)\n",
      "train set dimensions after dropping duplicates by question pair:  (404290, 6)\n",
      "train set dimensions after dropping duplicates by qid pair:  (404290, 6)\n"
     ]
    }
   ],
   "source": [
    "lst_of_files = ['train_kaggle.csv', 'train_glue.tsv', 'dev_glue.tsv']\n",
    "df = generate_raw_data(*lst_of_files)\n",
    "df_train_raw = df.sample(frac=0.8, random_state=42)\n",
    "df_test_raw = df.drop(df_train_raw.index)"
   ]
  },
  {
   "cell_type": "code",
   "execution_count": 3,
   "metadata": {},
   "outputs": [
    {
     "data": {
      "text/plain": [
       "True"
      ]
     },
     "execution_count": 3,
     "metadata": {},
     "output_type": "execute_result"
    }
   ],
   "source": [
    "# Check GPU is available for kbit training later\n",
    "torch.cuda.is_available()"
   ]
  },
  {
   "cell_type": "code",
   "execution_count": 3,
   "metadata": {},
   "outputs": [
    {
     "name": "stdout",
     "output_type": "stream",
     "text": [
      "Training Data Size: 12936\n",
      "Validation Data Size: 3235\n",
      "Testing Data Size: 12936\n"
     ]
    }
   ],
   "source": [
    "# to take only a subset of the available data\n",
    "df_train, _, _, _ = train_test_split(\n",
    "    df_train_raw, df_train_raw, test_size=0.95, stratify=df_train_raw['is_duplicate'], random_state=42\n",
    ")\n",
    "\n",
    "# split into training and validation data\n",
    "df_train, df_val, _, _ = train_test_split(\n",
    "    df_train, df_train, test_size=0.2, stratify=df_train['is_duplicate'], random_state=42\n",
    ")\n",
    "\n",
    "# to only take a subset of the testing data for evaluation\n",
    "df_test, _, _, _ = train_test_split(\n",
    "    df_test_raw, df_test_raw, test_size=0.99, stratify=df_test_raw['is_duplicate'], random_state=42\n",
    ")\n",
    "\n",
    "df_test = df_test.reset_index(drop=True)\n",
    "\n",
    "df_train = df_train.reset_index(drop=True)\n",
    "df_val = df_val.reset_index(drop=True)\n",
    "df_test = df_test.reset_index(drop=True)\n",
    "\n",
    "print(f\"Training Data Size: {len(df_train)}\")\n",
    "print(f\"Validation Data Size: {len(df_val)}\")\n",
    "print(f\"Testing Data Size: {len(df_train)}\")"
   ]
  },
  {
   "cell_type": "markdown",
   "metadata": {},
   "source": [
    "### Initialize pretrained BERT model with LoRA configuration"
   ]
  },
  {
   "cell_type": "code",
   "execution_count": 4,
   "metadata": {},
   "outputs": [
    {
     "name": "stderr",
     "output_type": "stream",
     "text": [
      "`low_cpu_mem_usage` was None, now default to True since model is quantized.\n",
      "Some weights of BertForSequenceClassification were not initialized from the model checkpoint at bert-base-uncased and are newly initialized: ['classifier.bias', 'classifier.weight']\n",
      "You should probably TRAIN this model on a down-stream task to be able to use it for predictions and inference.\n"
     ]
    },
    {
     "name": "stdout",
     "output_type": "stream",
     "text": [
      "trainable params: 296,450 || all params: 109,780,228 || trainable%: 0.2700\n"
     ]
    }
   ],
   "source": [
    "MODEL_NAME = 'bert-base-uncased'\n",
    "\n",
    "'''\n",
    "tokenizer converts text into a tokenizer vector,\n",
    "where data_collator provides padding to the vectors to ensure equal length\n",
    "for input into the transformer later\n",
    "'''\n",
    "tokenizer = AutoTokenizer.from_pretrained(MODEL_NAME)\n",
    "data_collator = DataCollatorWithPadding(tokenizer=tokenizer)\n",
    "\n",
    "'''\n",
    "Quantized LoRA for memory optimisation\n",
    "'''\n",
    "quantization_config = BitsAndBytesConfig(\n",
    "        load_in_4bit = True, \n",
    "        bnb_4bit_quant_type = 'nf4', \n",
    "        bnb_4bit_use_double_quant = True,\n",
    "        bnb_4bit_compute_dtype = torch.bfloat16 \n",
    ")\n",
    "\n",
    "'''\n",
    "Initialise base BERT model for fine tuning\n",
    "and prepare it for kbit training (quantization)\n",
    "'''\n",
    "base_model = AutoModelForSequenceClassification.from_pretrained(\n",
    "    MODEL_NAME,\n",
    "    num_labels=2,\n",
    "    problem_type=\"single_label_classification\",\n",
    "    quantization_config=quantization_config\n",
    ")\n",
    "\n",
    "base_model = prepare_model_for_kbit_training(base_model)\n",
    "\n",
    "'''\n",
    "Add LoRA config into pre-trained base model for fine-tuning\n",
    "'''\n",
    "lora_config = LoraConfig(\n",
    "    r=8,                  # Rank\n",
    "    lora_alpha=32,        # Scaling factor\n",
    "    lora_dropout=0.05,\n",
    "    bias=\"none\",\n",
    "    task_type=TaskType.SEQ_CLS   # Sequence classification\n",
    ")\n",
    "\n",
    "lora_model = get_peft_model(base_model, lora_config)\n",
    "lora_model.config.pad_token_id = tokenizer.pad_token_id\n",
    "lora_model.print_trainable_parameters()"
   ]
  },
  {
   "cell_type": "code",
   "execution_count": 5,
   "metadata": {},
   "outputs": [],
   "source": [
    "'''\n",
    "Tokenize train and validation dataset\n",
    "'''\n",
    "train_dataset = df_train.apply(lambda x: tokenize_input(text1=x['question1'], text2=x['question2'], label=x['is_duplicate'], tokenizer=tokenizer), axis=1)\n",
    "val_dataset = df_val.apply(lambda x: tokenize_input(text1=x['question1'], text2=x['question2'], label=x['is_duplicate'], tokenizer=tokenizer), axis=1)\n"
   ]
  },
  {
   "cell_type": "markdown",
   "metadata": {},
   "source": [
    "### Start fine tuning the BERT base model with LoRA"
   ]
  },
  {
   "cell_type": "code",
   "execution_count": 7,
   "metadata": {},
   "outputs": [
    {
     "name": "stderr",
     "output_type": "stream",
     "text": [
      "C:\\Users\\User\\AppData\\Local\\Temp\\ipykernel_58892\\1736444642.py:16: FutureWarning: `tokenizer` is deprecated and will be removed in version 5.0.0 for `Trainer.__init__`. Use `processing_class` instead.\n",
      "  trainer = Trainer(\n",
      "No label_names provided for model class `PeftModelForSequenceClassification`. Since `PeftModel` hides base models input arguments, if label_names is not given, label_names can't be set automatically within `Trainer`. Note that empty label_names list will be used instead.\n"
     ]
    }
   ],
   "source": [
    "num_train_epochs = 5\n",
    "\n",
    "training_args = TrainingArguments(\n",
    "    output_dir='./results',\n",
    "    overwrite_output_dir=True,\n",
    "    learning_rate=2e-5,\n",
    "    weight_decay=0.01,\n",
    "    eval_strategy=\"epoch\",\n",
    "    save_strategy=\"epoch\",\n",
    "    load_best_model_at_end=True,\n",
    "    metric_for_best_model=\"eval_f1\",\n",
    "    save_total_limit=1,\n",
    "    num_train_epochs=num_train_epochs,\n",
    "    warmup_steps=50)\n",
    "\n",
    "trainer = Trainer(\n",
    "    model=lora_model,\n",
    "    args=training_args,\n",
    "    train_dataset=train_dataset,\n",
    "    eval_dataset=val_dataset,\n",
    "    data_collator=data_collator,\n",
    "    tokenizer=tokenizer,\n",
    "    compute_metrics=compute_metrics\n",
    ")\n",
    "\n",
    "# trainer.train()\n",
    "# trainer.save_model(f'models/{MODEL_NAME}_{num_train_epochs}')"
   ]
  },
  {
   "cell_type": "markdown",
   "metadata": {},
   "source": [
    "### To call model from saved models"
   ]
  },
  {
   "cell_type": "code",
   "execution_count": 8,
   "metadata": {},
   "outputs": [],
   "source": [
    "desired_model_name = MODEL_NAME\n",
    "desired_epochs = num_train_epochs\n",
    "\n",
    "peft_model_id = f'models/{desired_model_name}_{desired_epochs}'"
   ]
  },
  {
   "cell_type": "markdown",
   "metadata": {},
   "source": [
    "### Make predictions"
   ]
  },
  {
   "cell_type": "code",
   "execution_count": null,
   "metadata": {},
   "outputs": [
    {
     "name": "stderr",
     "output_type": "stream",
     "text": [
      "Some weights of BertForSequenceClassification were not initialized from the model checkpoint at bert-base-uncased and are newly initialized: ['classifier.bias', 'classifier.weight']\n",
      "You should probably TRAIN this model on a down-stream task to be able to use it for predictions and inference.\n"
     ]
    },
    {
     "data": {
      "image/png": "[encoded data removed]",
      "text/plain": [
       "<Figure size 640x480 with 2 Axes>"
      ]
     },
     "metadata": {},
     "output_type": "display_data"
    },
    {
     "name": "stdout",
     "output_type": "stream",
     "text": [
      "              precision    recall  f1-score   support\n",
      "\n",
      " Not Similar       0.89      0.74      0.81       509\n",
      "     Similar       0.65      0.84      0.74       299\n",
      "\n",
      "    accuracy                           0.78       808\n",
      "   macro avg       0.77      0.79      0.77       808\n",
      "weighted avg       0.80      0.78      0.78       808\n",
      "\n",
      "Accuracy: 0.776\n",
      "Recall: 0.843\n",
      "Precision: 0.653\n",
      "F1-score: 0.736\n"
     ]
    }
   ],
   "source": [
    "predictor = QuantizedLoraPredictor(model_name=desired_model_name, peft_model_id=peft_model_id)\n",
    "df_test['predicted'] = df_test.apply(lambda x: predictor.predict(x['question1'], x['question2']), axis=1)\n",
    "df_test['predicted'] = [1 if x > 0.5 else 0 for x in df_test['predicted']]\n",
    "\n",
    "labels = [\"Not Similar\", \"Similar\"]\n",
    "get_model_evaluation(df_test['is_duplicate'], df_test['predicted'], labels, 'LoRA Fine tuned BERT')"
   ]
  }
 ],
 "metadata": {
  "kernelspec": {
   "display_name": "Python 3",
   "language": "python",
   "name": "python3"
  },
  "language_info": {
   "codemirror_mode": {
    "name": "ipython",
    "version": 3
   },
   "file_extension": ".py",
   "mimetype": "text/x-python",
   "name": "python",
   "nbconvert_exporter": "python",
   "pygments_lexer": "ipython3",
   "version": "3.10.16"
  }
 },
 "nbformat": 4,
 "nbformat_minor": 2
}
